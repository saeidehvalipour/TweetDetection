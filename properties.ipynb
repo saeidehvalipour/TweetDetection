{
 "cells": [
  {
   "cell_type": "code",
   "execution_count": 1,
   "metadata": {},
   "outputs": [],
   "source": [
    "import json\n",
    "import codecs\n",
    "from datetime import datetime\n",
    "import numpy as np\n",
    "\n",
    "from sklearn import tree\n",
    "from sklearn.model_selection import train_test_split\n",
    "from sklearn.metrics import precision_recall_curve\n",
    "\n",
    "import pydotplus\n",
    "from IPython.display import Image \n"
   ]
  },
  {
   "cell_type": "code",
   "execution_count": 2,
   "metadata": {},
   "outputs": [],
   "source": [
    "path= \"english10k_tweets.json\"\n",
    "\n",
    "tweets = []\n",
    "with open(path) as f:\n",
    "    for line in f:\n",
    "        tweets.append(json.loads(line))"
   ]
  },
  {
   "cell_type": "code",
   "execution_count": 3,
   "metadata": {},
   "outputs": [
    {
     "data": {
      "text/plain": [
       "10000"
      ]
     },
     "execution_count": 3,
     "metadata": {},
     "output_type": "execute_result"
    }
   ],
   "source": [
    "len(tweets)"
   ]
  },
  {
   "cell_type": "code",
   "execution_count": 4,
   "metadata": {},
   "outputs": [],
   "source": [
    "device_type= {'Twitter for Iphone':'mobile', 'Twitter for Android':'mobile',\n",
    "    'Twitter Web Client':'web', \"Tweetbot for Mac\":'web',\n",
    "    'Instagram':'app', 'Tumblr':'app', 'Foursquared':'app',\n",
    "    'Falcon Social Media Management':'smm', 'TweetDeck':'smm', 'dlvr.it':'smm',\n",
    "    'Trendsmap Alerting':'bot', 'SpotifyNowPlaying':'bot'}"
   ]
  },
  {
   "cell_type": "code",
   "execution_count": 5,
   "metadata": {},
   "outputs": [],
   "source": [
    "target_name=list(device_type.values())\n",
    "target_name.append('other')\n",
    "target_name=list(set(target_name))\n",
    "device_type2ID=dict(zip(target_name,range(len(target_name))))\n",
    "ID2device_type=dict(zip(range(len(target_name)),target_name))\n"
   ]
  },
  {
   "cell_type": "code",
   "execution_count": 6,
   "metadata": {},
   "outputs": [],
   "source": [
    "tweet_date_created={}\n",
    "count_favourites_day={}\n",
    "user_date_created={}\n",
    "c=0\n",
    "\n",
    "for tweet in tweets:\n",
    "    d_tweet=tweet['created_at']\n",
    "    d_user=tweet['created_at']\n",
    "    datetime_tweet = datetime.strptime(d_tweet[4:-20] + d_tweet[-5:], '%b %d %Y')\n",
    "    datetime_user = datetime.strptime(d_user[4:-20] + d_user[-5:], '%b %d %Y')\n",
    "    if tweet['user']['id'] in tweet_date_created.keys():\n",
    "        tweet_date_created[tweet['user']['id']].append(datetime_tweet)\n",
    "        count_favourites_day[tweet['user']['id']].append(tweet['user']['favourites_count'])\n",
    "    else:\n",
    "        tweet_date_created[tweet['user']['id']]= [datetime_tweet]\n",
    "        user_date_created[tweet['user']['id']] = datetime_user\n",
    "        count_favourites_day[tweet['user']['id']]= [tweet['user']['favourites_count']]\n",
    "        \n"
   ]
  },
  {
   "cell_type": "code",
   "execution_count": 7,
   "metadata": {},
   "outputs": [],
   "source": [
    "properties_tweet=[]\n",
    "target= []\n",
    "for tweet in tweets:\n",
    "    len_text = len(tweet['text'].split(' '))\n",
    "    target.append(tweet['id'])\n",
    "    properties_tweet.append([tweet['in_reply_to_user_id']])\n",
    "    properties_tweet[-1].append(str(tweet['retweeted']))\n",
    "    try:\n",
    "        properties_tweet[-1].append(str(tweet['user']['followers_count']/(tweet['user']['followers_count']+tweet['user']['friends_count'])))\n",
    "    except:\n",
    "        properties_tweet[-1].append('0')\n",
    "    properties_tweet[-1].append(len(tweet['entities']['hashtags'])/ len_text)\n",
    "    properties_tweet[-1].append(len(tweet['entities']['urls'])/ len_text)\n",
    "    properties_tweet[-1].append(len(tweet['entities']['user_mentions'])/ len_text)\n",
    "    properties_tweet[-1].append(len(tweet_date_created[tweet['user']['id']]) / \n",
    "                               ((tweet_date_created[tweet['user']['id']][-1] - user_date_created[tweet['user']['id']]).days+1))\n",
    "    properties_tweet[-1].append(tweet['user']['favourites_count'] / \n",
    "                              ((tweet_date_created[tweet['user']['id']][-1] - user_date_created[tweet['user']['id']]).days+1))\n",
    "#     count(w['user']['id']) / (date now or date last tweet) - count(tweet['user']['created_at'])\n",
    "#     count(w['user']['favourites_count']) / (date now or date last tweet) - count(tweet['user']['created_at'])\n",
    "    try:\n",
    "        properties_tweet[-1].append(device_type[tweet['source'].strip().split('>')[-2].split('<')[0]])\n",
    "    except:\n",
    "        properties_tweet[-1].append('other')\n"
   ]
  },
  {
   "cell_type": "code",
   "execution_count": 8,
   "metadata": {},
   "outputs": [
    {
     "data": {
      "text/plain": [
       "(10000, 9)"
      ]
     },
     "execution_count": 8,
     "metadata": {},
     "output_type": "execute_result"
    }
   ],
   "source": [
    "properties_tweet= np.array(properties_tweet)\n",
    "properties_tweet.shape"
   ]
  },
  {
   "cell_type": "code",
   "execution_count": null,
   "metadata": {},
   "outputs": [],
   "source": []
  },
  {
   "cell_type": "code",
   "execution_count": null,
   "metadata": {},
   "outputs": [],
   "source": []
  },
  {
   "cell_type": "code",
   "execution_count": null,
   "metadata": {},
   "outputs": [],
   "source": []
  },
  {
   "cell_type": "code",
   "execution_count": null,
   "metadata": {},
   "outputs": [],
   "source": []
  }
 ],
 "metadata": {
  "kernelspec": {
   "display_name": "Python 3",
   "language": "python",
   "name": "python3"
  },
  "language_info": {
   "codemirror_mode": {
    "name": "ipython",
    "version": 3
   },
   "file_extension": ".py",
   "mimetype": "text/x-python",
   "name": "python",
   "nbconvert_exporter": "python",
   "pygments_lexer": "ipython3",
   "version": "3.6.5"
  }
 },
 "nbformat": 4,
 "nbformat_minor": 2
}
